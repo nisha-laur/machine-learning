{
 "cells": [
  {
   "cell_type": "markdown",
   "id": "a38c40ab",
   "metadata": {},
   "source": [
    "# Bayes Theorem\n",
    "\n",
    "<img src=\"imgs/probability.png\" width=150 align = \"right\">\n",
    "<br><br>\n",
    "\n",
    "\n",
    "1. Bayes theorem is one of the most important concepts in Probability Theory.\n",
    "1. Bayes theorem is widely used for text classification.\n",
    "1. Naive Bayes was the first algorithm to be designed for Email spam filters."
   ]
  },
  {
   "cell_type": "markdown",
   "id": "64d40fb9",
   "metadata": {},
   "source": [
    "<img src=\"imgs/bayes.png\">"
   ]
  },
  {
   "cell_type": "code",
   "execution_count": null,
   "id": "f30bbf71",
   "metadata": {},
   "outputs": [],
   "source": []
  },
  {
   "cell_type": "code",
   "execution_count": null,
   "id": "a3f4d213",
   "metadata": {},
   "outputs": [],
   "source": []
  },
  {
   "cell_type": "code",
   "execution_count": null,
   "id": "43d8e33f",
   "metadata": {},
   "outputs": [],
   "source": []
  },
  {
   "cell_type": "code",
   "execution_count": null,
   "id": "e1e3e445",
   "metadata": {},
   "outputs": [],
   "source": []
  },
  {
   "cell_type": "code",
   "execution_count": null,
   "id": "8fbea067",
   "metadata": {},
   "outputs": [],
   "source": []
  },
  {
   "cell_type": "code",
   "execution_count": null,
   "id": "350846d8",
   "metadata": {},
   "outputs": [],
   "source": []
  },
  {
   "cell_type": "code",
   "execution_count": null,
   "id": "9176ecca",
   "metadata": {},
   "outputs": [],
   "source": []
  },
  {
   "cell_type": "code",
   "execution_count": null,
   "id": "f404479c",
   "metadata": {},
   "outputs": [],
   "source": []
  },
  {
   "cell_type": "code",
   "execution_count": null,
   "id": "79d9f635",
   "metadata": {},
   "outputs": [],
   "source": []
  },
  {
   "cell_type": "code",
   "execution_count": null,
   "id": "92624c31",
   "metadata": {},
   "outputs": [],
   "source": []
  },
  {
   "cell_type": "code",
   "execution_count": null,
   "id": "f1901bd6",
   "metadata": {},
   "outputs": [],
   "source": []
  },
  {
   "cell_type": "code",
   "execution_count": null,
   "id": "7a9abfaa",
   "metadata": {},
   "outputs": [],
   "source": []
  },
  {
   "cell_type": "code",
   "execution_count": null,
   "id": "7d25f16e",
   "metadata": {},
   "outputs": [],
   "source": []
  },
  {
   "cell_type": "markdown",
   "id": "58e13fd7",
   "metadata": {},
   "source": [
    "# Derivation of Bayes theorem"
   ]
  },
  {
   "cell_type": "code",
   "execution_count": null,
   "id": "fa9f2521",
   "metadata": {},
   "outputs": [],
   "source": []
  },
  {
   "cell_type": "code",
   "execution_count": null,
   "id": "c388f857",
   "metadata": {},
   "outputs": [],
   "source": []
  },
  {
   "cell_type": "code",
   "execution_count": null,
   "id": "38bcbe49",
   "metadata": {},
   "outputs": [],
   "source": []
  },
  {
   "cell_type": "markdown",
   "id": "35789d42",
   "metadata": {},
   "source": [
    "# Naive Bayes Question\n"
   ]
  },
  {
   "cell_type": "markdown",
   "id": "7bc94aa8",
   "metadata": {},
   "source": [
    "**Q- Given that, the probability that it rains on Saturday is 25%. It if rains on Saturday, The probability it rains on Sunday is 50%. If it does not rain on saturday, the probability it rains on Sunday is 25%. \n",
    "Given that it rained on Sunday, what is the probability that it rained on Saturday.**"
   ]
  },
  {
   "cell_type": "markdown",
   "id": "dd0e0044",
   "metadata": {},
   "source": [
    "Let A = rain on Saturday. B = rain on Sunday.\n",
    "\n",
    "Given:\n",
    "1. P(A) = 25%\n",
    "1. P(B|A) = 50%\n",
    "1. P(B|$A^c$) = 25%\n",
    "\n",
    "Find:\n",
    " P(A|B)"
   ]
  },
  {
   "cell_type": "markdown",
   "id": "e5c5e49b",
   "metadata": {},
   "source": [
    "`P(A|B) = P(B|A).P(A) / P(B)`\n"
   ]
  },
  {
   "cell_type": "code",
   "execution_count": null,
   "id": "f3ae8bcd",
   "metadata": {},
   "outputs": [],
   "source": []
  },
  {
   "cell_type": "code",
   "execution_count": null,
   "id": "63c3b370",
   "metadata": {},
   "outputs": [],
   "source": []
  },
  {
   "cell_type": "code",
   "execution_count": null,
   "id": "2724b9ca",
   "metadata": {},
   "outputs": [],
   "source": []
  },
  {
   "cell_type": "code",
   "execution_count": null,
   "id": "890952d0",
   "metadata": {},
   "outputs": [],
   "source": []
  },
  {
   "cell_type": "code",
   "execution_count": null,
   "id": "8e558f3e",
   "metadata": {},
   "outputs": [],
   "source": []
  },
  {
   "cell_type": "markdown",
   "id": "85f066b5",
   "metadata": {},
   "source": [
    "# Spam or Non Spam Emails?\n",
    "\n",
    "<br>\n",
    "<img src=\"imgs/email.png\" width=200>"
   ]
  },
  {
   "cell_type": "markdown",
   "id": "3e0f3b0f",
   "metadata": {},
   "source": [
    "**Problem Statement**: Given X as an email content. Predict if the email is a spam or non-spam."
   ]
  },
  {
   "cell_type": "markdown",
   "id": "664bb89d",
   "metadata": {},
   "source": [
    "**Solution**:\n",
    "\n",
    "Find Posterior Probability of Both classes Y=1, Y=0\n",
    "\n",
    "$$ P(Y=1|X)$$ and $$ P(Y=0|X)$$\n",
    "\n",
    "$$ argmax_i  P(y_i|X)$$"
   ]
  },
  {
   "cell_type": "markdown",
   "id": "0d6a4af4",
   "metadata": {},
   "source": [
    "How to find $P(Y=i|X)$?\n",
    "\n",
    "**Prior** :\n",
    "\n",
    "$$P(Y=1) = \\frac { spam}{ total}$$"
   ]
  },
  {
   "cell_type": "markdown",
   "id": "226aabe3",
   "metadata": {},
   "source": [
    "X = `get unlimited mobile data at 95% discounted price`"
   ]
  },
  {
   "cell_type": "markdown",
   "id": "d96f7ab8",
   "metadata": {},
   "source": [
    "$P(X|Y = 1)$ : In how many spam emails , these words are occuring. Count the frequency of these words in spam email.\n",
    "\n",
    "$P(X|Y = 0)$ : In how many non-spam emails , these words are occuring. Count the frequency of these words in non-spam email."
   ]
  },
  {
   "cell_type": "markdown",
   "id": "0dece1a7",
   "metadata": {},
   "source": [
    "**Marginal likelihood is used for normalizing the data.**"
   ]
  },
  {
   "cell_type": "code",
   "execution_count": null,
   "id": "1d86bb22",
   "metadata": {},
   "outputs": [],
   "source": []
  },
  {
   "cell_type": "markdown",
   "id": "e060aa6e",
   "metadata": {},
   "source": [
    "# Naive Bayes Classification"
   ]
  },
  {
   "cell_type": "markdown",
   "id": "99f04296",
   "metadata": {},
   "source": [
    "**Prior Formula**"
   ]
  },
  {
   "cell_type": "markdown",
   "id": "a1a51246",
   "metadata": {},
   "source": [
    "**Likelihood Formula**"
   ]
  },
  {
   "cell_type": "code",
   "execution_count": null,
   "id": "06f3ef6a",
   "metadata": {},
   "outputs": [],
   "source": []
  },
  {
   "cell_type": "code",
   "execution_count": null,
   "id": "a238e045",
   "metadata": {},
   "outputs": [],
   "source": []
  },
  {
   "cell_type": "code",
   "execution_count": null,
   "id": "5245ae57",
   "metadata": {},
   "outputs": [],
   "source": []
  },
  {
   "cell_type": "markdown",
   "id": "b307cd18",
   "metadata": {},
   "source": [
    "# Play Golf Dataset"
   ]
  },
  {
   "cell_type": "markdown",
   "id": "23ceb941",
   "metadata": {},
   "source": [
    "<table>\n",
    "    <tr>\n",
    "        <td>        \n",
    "            <img src=\"imgs/golf.png\" width=500 align=left>\n",
    "        </td>\n",
    "        <td>\n",
    "            <img src=\"https://media.giphy.com/media/l2JdTikgn9Y6HPNmg/giphy.gif\" width=300 align=right>\n",
    "        </td>\n",
    "    </tr>\n",
    "</table>\n"
   ]
  },
  {
   "cell_type": "markdown",
   "id": "9293f1ec",
   "metadata": {},
   "source": [
    "### Test Data\n",
    "`today = (Sunny, Hot, Normal, False)`"
   ]
  },
  {
   "cell_type": "code",
   "execution_count": null,
   "id": "899a8623",
   "metadata": {},
   "outputs": [],
   "source": []
  },
  {
   "cell_type": "markdown",
   "id": "78979fd8",
   "metadata": {},
   "source": [
    "# Naive Bayes Code"
   ]
  },
  {
   "cell_type": "code",
   "execution_count": 1,
   "id": "ec9028ae",
   "metadata": {},
   "outputs": [],
   "source": [
    "import pandas as pd\n",
    "import numpy as np"
   ]
  },
  {
   "cell_type": "code",
   "execution_count": 3,
   "id": "4b6af255",
   "metadata": {},
   "outputs": [],
   "source": [
    "golf = pd.read_csv(\"golf.csv\")"
   ]
  },
  {
   "cell_type": "code",
   "execution_count": 4,
   "id": "e772c7e1",
   "metadata": {},
   "outputs": [
    {
     "data": {
      "text/html": [
       "<div>\n",
       "<style scoped>\n",
       "    .dataframe tbody tr th:only-of-type {\n",
       "        vertical-align: middle;\n",
       "    }\n",
       "\n",
       "    .dataframe tbody tr th {\n",
       "        vertical-align: top;\n",
       "    }\n",
       "\n",
       "    .dataframe thead th {\n",
       "        text-align: right;\n",
       "    }\n",
       "</style>\n",
       "<table border=\"1\" class=\"dataframe\">\n",
       "  <thead>\n",
       "    <tr style=\"text-align: right;\">\n",
       "      <th></th>\n",
       "      <th>Outlook</th>\n",
       "      <th>Temperature</th>\n",
       "      <th>Humidity</th>\n",
       "      <th>Windy</th>\n",
       "      <th>Play</th>\n",
       "    </tr>\n",
       "  </thead>\n",
       "  <tbody>\n",
       "    <tr>\n",
       "      <th>0</th>\n",
       "      <td>sunny</td>\n",
       "      <td>hot</td>\n",
       "      <td>high</td>\n",
       "      <td>False</td>\n",
       "      <td>no</td>\n",
       "    </tr>\n",
       "    <tr>\n",
       "      <th>1</th>\n",
       "      <td>sunny</td>\n",
       "      <td>hot</td>\n",
       "      <td>high</td>\n",
       "      <td>True</td>\n",
       "      <td>no</td>\n",
       "    </tr>\n",
       "    <tr>\n",
       "      <th>2</th>\n",
       "      <td>overcast</td>\n",
       "      <td>hot</td>\n",
       "      <td>high</td>\n",
       "      <td>False</td>\n",
       "      <td>yes</td>\n",
       "    </tr>\n",
       "    <tr>\n",
       "      <th>3</th>\n",
       "      <td>rainy</td>\n",
       "      <td>mild</td>\n",
       "      <td>high</td>\n",
       "      <td>False</td>\n",
       "      <td>yes</td>\n",
       "    </tr>\n",
       "    <tr>\n",
       "      <th>4</th>\n",
       "      <td>rainy</td>\n",
       "      <td>cool</td>\n",
       "      <td>normal</td>\n",
       "      <td>False</td>\n",
       "      <td>yes</td>\n",
       "    </tr>\n",
       "    <tr>\n",
       "      <th>5</th>\n",
       "      <td>rainy</td>\n",
       "      <td>cool</td>\n",
       "      <td>normal</td>\n",
       "      <td>True</td>\n",
       "      <td>no</td>\n",
       "    </tr>\n",
       "    <tr>\n",
       "      <th>6</th>\n",
       "      <td>overcast</td>\n",
       "      <td>cool</td>\n",
       "      <td>normal</td>\n",
       "      <td>True</td>\n",
       "      <td>yes</td>\n",
       "    </tr>\n",
       "    <tr>\n",
       "      <th>7</th>\n",
       "      <td>sunny</td>\n",
       "      <td>mild</td>\n",
       "      <td>high</td>\n",
       "      <td>False</td>\n",
       "      <td>no</td>\n",
       "    </tr>\n",
       "    <tr>\n",
       "      <th>8</th>\n",
       "      <td>sunny</td>\n",
       "      <td>cool</td>\n",
       "      <td>normal</td>\n",
       "      <td>False</td>\n",
       "      <td>yes</td>\n",
       "    </tr>\n",
       "    <tr>\n",
       "      <th>9</th>\n",
       "      <td>rainy</td>\n",
       "      <td>mild</td>\n",
       "      <td>normal</td>\n",
       "      <td>False</td>\n",
       "      <td>yes</td>\n",
       "    </tr>\n",
       "    <tr>\n",
       "      <th>10</th>\n",
       "      <td>sunny</td>\n",
       "      <td>mild</td>\n",
       "      <td>normal</td>\n",
       "      <td>True</td>\n",
       "      <td>yes</td>\n",
       "    </tr>\n",
       "    <tr>\n",
       "      <th>11</th>\n",
       "      <td>overcast</td>\n",
       "      <td>mild</td>\n",
       "      <td>high</td>\n",
       "      <td>True</td>\n",
       "      <td>yes</td>\n",
       "    </tr>\n",
       "    <tr>\n",
       "      <th>12</th>\n",
       "      <td>overcast</td>\n",
       "      <td>hot</td>\n",
       "      <td>normal</td>\n",
       "      <td>False</td>\n",
       "      <td>yes</td>\n",
       "    </tr>\n",
       "    <tr>\n",
       "      <th>13</th>\n",
       "      <td>rainy</td>\n",
       "      <td>mild</td>\n",
       "      <td>high</td>\n",
       "      <td>True</td>\n",
       "      <td>no</td>\n",
       "    </tr>\n",
       "  </tbody>\n",
       "</table>\n",
       "</div>"
      ],
      "text/plain": [
       "     Outlook Temperature Humidity  Windy Play\n",
       "0      sunny         hot     high  False   no\n",
       "1      sunny         hot     high   True   no\n",
       "2   overcast         hot     high  False  yes\n",
       "3      rainy        mild     high  False  yes\n",
       "4      rainy        cool   normal  False  yes\n",
       "5      rainy        cool   normal   True   no\n",
       "6   overcast        cool   normal   True  yes\n",
       "7      sunny        mild     high  False   no\n",
       "8      sunny        cool   normal  False  yes\n",
       "9      rainy        mild   normal  False  yes\n",
       "10     sunny        mild   normal   True  yes\n",
       "11  overcast        mild     high   True  yes\n",
       "12  overcast         hot   normal  False  yes\n",
       "13     rainy        mild     high   True   no"
      ]
     },
     "execution_count": 4,
     "metadata": {},
     "output_type": "execute_result"
    }
   ],
   "source": [
    "golf"
   ]
  },
  {
   "cell_type": "code",
   "execution_count": 72,
   "id": "6c061473",
   "metadata": {},
   "outputs": [],
   "source": [
    "def prior_prob(golf, label):\n",
    "    \n",
    "    total_examples = golf.shape[0]\n",
    "    class_examples = np.sum(golf['Play']==label)\n",
    "    \n",
    "    return (class_examples)/float(total_examples)"
   ]
  },
  {
   "cell_type": "code",
   "execution_count": 73,
   "id": "9491b38b",
   "metadata": {},
   "outputs": [
    {
     "name": "stdout",
     "output_type": "stream",
     "text": [
      "{'yes': 0.6428571428571429, 'no': 0.35714285714285715}\n"
     ]
    }
   ],
   "source": [
    "PRIOR = {\n",
    "    'yes' : prior_prob(golf, 'yes'),\n",
    "    'no' : prior_prob(golf, 'no')\n",
    "}\n",
    "print(PRIOR)"
   ]
  },
  {
   "cell_type": "code",
   "execution_count": 74,
   "id": "f22fb14b",
   "metadata": {},
   "outputs": [],
   "source": [
    "def cond_prob(golf, feature_col, feature_val, label):\n",
    "    \n",
    "    filtered_data = golf[golf['Play']==label]\n",
    "    numerator = np.sum(filtered_data[feature_col]==feature_val)\n",
    "    denominator = np.sum(golf['Play']==label)\n",
    "    \n",
    "    return numerator/float(denominator)"
   ]
  },
  {
   "cell_type": "code",
   "execution_count": 75,
   "id": "2a9e5d93",
   "metadata": {},
   "outputs": [
    {
     "name": "stdout",
     "output_type": "stream",
     "text": [
      "Outlook - sunny - no : 0.6\n",
      "Outlook - overcast - no : 0.0\n",
      "Outlook - rainy - no : 0.4\n",
      "Temperature - hot - no : 0.4\n",
      "Temperature - mild - no : 0.4\n",
      "Temperature - cool - no : 0.2\n",
      "Humidity - high - no : 0.8\n",
      "Humidity - normal - no : 0.2\n",
      "Windy - False - no : 0.4\n",
      "Windy - True - no : 0.6\n",
      "\n",
      "Outlook - sunny - yes : 0.22\n",
      "Outlook - overcast - yes : 0.44\n",
      "Outlook - rainy - yes : 0.33\n",
      "Temperature - hot - yes : 0.22\n",
      "Temperature - mild - yes : 0.44\n",
      "Temperature - cool - yes : 0.33\n",
      "Humidity - high - yes : 0.33\n",
      "Humidity - normal - yes : 0.67\n",
      "Windy - False - yes : 0.67\n",
      "Windy - True - yes : 0.33\n",
      "\n"
     ]
    }
   ],
   "source": [
    "features = list(golf.columns)[:-1]\n",
    "COND_PROB = {}\n",
    "\n",
    "for label in golf['Play'].unique():\n",
    "    COND_PROB[label] = {}\n",
    "    for feature in features:\n",
    "        COND_PROB[label][feature] = {}\n",
    "        \n",
    "        feat_values = golf[feature].unique()\n",
    "        for value in feat_values:\n",
    "            #value -> sunny, Outlook, yes\n",
    "            prob = round(cond_prob(golf, feature, value, label), 2)\n",
    "            COND_PROB[label][feature][value] = prob\n",
    "            print(feature,\"-\",value, \"-\",label,\":\", prob)\n",
    "\n",
    "    print()"
   ]
  },
  {
   "cell_type": "code",
   "execution_count": 76,
   "id": "e64f772f",
   "metadata": {},
   "outputs": [
    {
     "data": {
      "text/plain": [
       "{'no': {'Outlook': {'sunny': 0.6, 'overcast': 0.0, 'rainy': 0.4},\n",
       "  'Temperature': {'hot': 0.4, 'mild': 0.4, 'cool': 0.2},\n",
       "  'Humidity': {'high': 0.8, 'normal': 0.2},\n",
       "  'Windy': {False: 0.4, True: 0.6}},\n",
       " 'yes': {'Outlook': {'sunny': 0.22, 'overcast': 0.44, 'rainy': 0.33},\n",
       "  'Temperature': {'hot': 0.22, 'mild': 0.44, 'cool': 0.33},\n",
       "  'Humidity': {'high': 0.33, 'normal': 0.67},\n",
       "  'Windy': {False: 0.67, True: 0.33}}}"
      ]
     },
     "execution_count": 76,
     "metadata": {},
     "output_type": "execute_result"
    }
   ],
   "source": [
    "COND_PROB"
   ]
  },
  {
   "cell_type": "markdown",
   "id": "482301ab",
   "metadata": {},
   "source": [
    "## Prediction"
   ]
  },
  {
   "cell_type": "code",
   "execution_count": 77,
   "id": "85086eb5",
   "metadata": {},
   "outputs": [
    {
     "name": "stdout",
     "output_type": "stream",
     "text": [
      "['sunny', 'hot', 'normal', False]\n"
     ]
    }
   ],
   "source": [
    "X_test = [\"sunny\", \"hot\", \"normal\", False]\n",
    "print(X_test)"
   ]
  },
  {
   "cell_type": "code",
   "execution_count": 68,
   "id": "d868936d",
   "metadata": {},
   "outputs": [
    {
     "data": {
      "text/plain": [
       "['Outlook', 'Temperature', 'Humidity', 'Windy']"
      ]
     },
     "execution_count": 68,
     "metadata": {},
     "output_type": "execute_result"
    }
   ],
   "source": [
    "features"
   ]
  },
  {
   "cell_type": "code",
   "execution_count": 83,
   "id": "9b5a41ee",
   "metadata": {},
   "outputs": [
    {
     "data": {
      "text/plain": [
       "0.013967202857142858"
      ]
     },
     "execution_count": 83,
     "metadata": {},
     "output_type": "execute_result"
    }
   ],
   "source": [
    "PRIOR['yes']*COND_PROB['yes']['Outlook']['sunny']*COND_PROB['yes']['Temperature']['hot']*COND_PROB['yes']['Humidity']['normal']*COND_PROB['yes']['Windy'][False]\n"
   ]
  },
  {
   "cell_type": "code",
   "execution_count": 80,
   "id": "c102066f",
   "metadata": {},
   "outputs": [
    {
     "data": {
      "text/plain": [
       "0.006857142857142858"
      ]
     },
     "execution_count": 80,
     "metadata": {},
     "output_type": "execute_result"
    }
   ],
   "source": [
    "PRIOR['no']*COND_PROB['no']['Outlook']['sunny']*COND_PROB['no']['Temperature']['hot']*COND_PROB['no']['Humidity']['normal']*COND_PROB['no']['Windy'][False]\n"
   ]
  },
  {
   "cell_type": "code",
   "execution_count": 82,
   "id": "66017bdd",
   "metadata": {},
   "outputs": [
    {
     "name": "stdout",
     "output_type": "stream",
     "text": [
      "no 0.006857142857142858\n",
      "yes 0.013967202857142858\n"
     ]
    }
   ],
   "source": [
    "for label in golf['Play'].unique():\n",
    "    \n",
    "    prob  = PRIOR[label]\n",
    "    for i in range(len(features)):\n",
    "        feature = features[i]\n",
    "        fea_value = X_test[i]\n",
    "        \n",
    "        prob *= COND_PROB[label][feature][fea_value]\n",
    "        \n",
    "    print(label, prob)"
   ]
  },
  {
   "cell_type": "code",
   "execution_count": null,
   "id": "da89b3d6",
   "metadata": {},
   "outputs": [],
   "source": []
  },
  {
   "cell_type": "markdown",
   "id": "41112a2f",
   "metadata": {},
   "source": [
    "# Naive Bayes Sklearn\n"
   ]
  },
  {
   "cell_type": "code",
   "execution_count": 2,
   "id": "a2614f08",
   "metadata": {},
   "outputs": [],
   "source": [
    "golf = pd.read_csv(\"golf.csv\")"
   ]
  },
  {
   "cell_type": "code",
   "execution_count": 3,
   "id": "619b744a",
   "metadata": {},
   "outputs": [
    {
     "data": {
      "text/html": [
       "<div>\n",
       "<style scoped>\n",
       "    .dataframe tbody tr th:only-of-type {\n",
       "        vertical-align: middle;\n",
       "    }\n",
       "\n",
       "    .dataframe tbody tr th {\n",
       "        vertical-align: top;\n",
       "    }\n",
       "\n",
       "    .dataframe thead th {\n",
       "        text-align: right;\n",
       "    }\n",
       "</style>\n",
       "<table border=\"1\" class=\"dataframe\">\n",
       "  <thead>\n",
       "    <tr style=\"text-align: right;\">\n",
       "      <th></th>\n",
       "      <th>Outlook</th>\n",
       "      <th>Temperature</th>\n",
       "      <th>Humidity</th>\n",
       "      <th>Windy</th>\n",
       "      <th>Play</th>\n",
       "    </tr>\n",
       "  </thead>\n",
       "  <tbody>\n",
       "    <tr>\n",
       "      <th>0</th>\n",
       "      <td>sunny</td>\n",
       "      <td>hot</td>\n",
       "      <td>high</td>\n",
       "      <td>False</td>\n",
       "      <td>no</td>\n",
       "    </tr>\n",
       "    <tr>\n",
       "      <th>1</th>\n",
       "      <td>sunny</td>\n",
       "      <td>hot</td>\n",
       "      <td>high</td>\n",
       "      <td>True</td>\n",
       "      <td>no</td>\n",
       "    </tr>\n",
       "    <tr>\n",
       "      <th>2</th>\n",
       "      <td>overcast</td>\n",
       "      <td>hot</td>\n",
       "      <td>high</td>\n",
       "      <td>False</td>\n",
       "      <td>yes</td>\n",
       "    </tr>\n",
       "    <tr>\n",
       "      <th>3</th>\n",
       "      <td>rainy</td>\n",
       "      <td>mild</td>\n",
       "      <td>high</td>\n",
       "      <td>False</td>\n",
       "      <td>yes</td>\n",
       "    </tr>\n",
       "    <tr>\n",
       "      <th>4</th>\n",
       "      <td>rainy</td>\n",
       "      <td>cool</td>\n",
       "      <td>normal</td>\n",
       "      <td>False</td>\n",
       "      <td>yes</td>\n",
       "    </tr>\n",
       "    <tr>\n",
       "      <th>5</th>\n",
       "      <td>rainy</td>\n",
       "      <td>cool</td>\n",
       "      <td>normal</td>\n",
       "      <td>True</td>\n",
       "      <td>no</td>\n",
       "    </tr>\n",
       "    <tr>\n",
       "      <th>6</th>\n",
       "      <td>overcast</td>\n",
       "      <td>cool</td>\n",
       "      <td>normal</td>\n",
       "      <td>True</td>\n",
       "      <td>yes</td>\n",
       "    </tr>\n",
       "    <tr>\n",
       "      <th>7</th>\n",
       "      <td>sunny</td>\n",
       "      <td>mild</td>\n",
       "      <td>high</td>\n",
       "      <td>False</td>\n",
       "      <td>no</td>\n",
       "    </tr>\n",
       "    <tr>\n",
       "      <th>8</th>\n",
       "      <td>sunny</td>\n",
       "      <td>cool</td>\n",
       "      <td>normal</td>\n",
       "      <td>False</td>\n",
       "      <td>yes</td>\n",
       "    </tr>\n",
       "    <tr>\n",
       "      <th>9</th>\n",
       "      <td>rainy</td>\n",
       "      <td>mild</td>\n",
       "      <td>normal</td>\n",
       "      <td>False</td>\n",
       "      <td>yes</td>\n",
       "    </tr>\n",
       "    <tr>\n",
       "      <th>10</th>\n",
       "      <td>sunny</td>\n",
       "      <td>mild</td>\n",
       "      <td>normal</td>\n",
       "      <td>True</td>\n",
       "      <td>yes</td>\n",
       "    </tr>\n",
       "    <tr>\n",
       "      <th>11</th>\n",
       "      <td>overcast</td>\n",
       "      <td>mild</td>\n",
       "      <td>high</td>\n",
       "      <td>True</td>\n",
       "      <td>yes</td>\n",
       "    </tr>\n",
       "    <tr>\n",
       "      <th>12</th>\n",
       "      <td>overcast</td>\n",
       "      <td>hot</td>\n",
       "      <td>normal</td>\n",
       "      <td>False</td>\n",
       "      <td>yes</td>\n",
       "    </tr>\n",
       "    <tr>\n",
       "      <th>13</th>\n",
       "      <td>rainy</td>\n",
       "      <td>mild</td>\n",
       "      <td>high</td>\n",
       "      <td>True</td>\n",
       "      <td>no</td>\n",
       "    </tr>\n",
       "  </tbody>\n",
       "</table>\n",
       "</div>"
      ],
      "text/plain": [
       "     Outlook Temperature Humidity  Windy Play\n",
       "0      sunny         hot     high  False   no\n",
       "1      sunny         hot     high   True   no\n",
       "2   overcast         hot     high  False  yes\n",
       "3      rainy        mild     high  False  yes\n",
       "4      rainy        cool   normal  False  yes\n",
       "5      rainy        cool   normal   True   no\n",
       "6   overcast        cool   normal   True  yes\n",
       "7      sunny        mild     high  False   no\n",
       "8      sunny        cool   normal  False  yes\n",
       "9      rainy        mild   normal  False  yes\n",
       "10     sunny        mild   normal   True  yes\n",
       "11  overcast        mild     high   True  yes\n",
       "12  overcast         hot   normal  False  yes\n",
       "13     rainy        mild     high   True   no"
      ]
     },
     "execution_count": 3,
     "metadata": {},
     "output_type": "execute_result"
    }
   ],
   "source": [
    "golf"
   ]
  },
  {
   "cell_type": "code",
   "execution_count": 4,
   "id": "ec428790",
   "metadata": {},
   "outputs": [],
   "source": [
    "from sklearn.preprocessing import LabelEncoder"
   ]
  },
  {
   "cell_type": "code",
   "execution_count": 5,
   "id": "81368653",
   "metadata": {},
   "outputs": [],
   "source": [
    "le1 = LabelEncoder()\n",
    "golf['Outlook'] = le1.fit_transform(golf['Outlook'])"
   ]
  },
  {
   "cell_type": "code",
   "execution_count": 6,
   "id": "5ae450a1",
   "metadata": {},
   "outputs": [],
   "source": [
    "le2 = LabelEncoder()\n",
    "golf['Temperature'] = le2.fit_transform(golf['Temperature'])"
   ]
  },
  {
   "cell_type": "code",
   "execution_count": 7,
   "id": "de3b5780",
   "metadata": {},
   "outputs": [],
   "source": [
    "le3 = LabelEncoder()\n",
    "golf['Humidity'] = le3.fit_transform(golf['Humidity'])"
   ]
  },
  {
   "cell_type": "code",
   "execution_count": 8,
   "id": "18bc604b",
   "metadata": {},
   "outputs": [],
   "source": [
    "le4 = LabelEncoder()\n",
    "golf['Windy'] = le4.fit_transform(golf['Windy'])"
   ]
  },
  {
   "cell_type": "code",
   "execution_count": 9,
   "id": "a7d8e495",
   "metadata": {},
   "outputs": [],
   "source": [
    "le5 = LabelEncoder()\n",
    "golf['Play'] = le5.fit_transform(golf['Play'])"
   ]
  },
  {
   "cell_type": "code",
   "execution_count": 10,
   "id": "7c16355b",
   "metadata": {},
   "outputs": [
    {
     "data": {
      "text/html": [
       "<div>\n",
       "<style scoped>\n",
       "    .dataframe tbody tr th:only-of-type {\n",
       "        vertical-align: middle;\n",
       "    }\n",
       "\n",
       "    .dataframe tbody tr th {\n",
       "        vertical-align: top;\n",
       "    }\n",
       "\n",
       "    .dataframe thead th {\n",
       "        text-align: right;\n",
       "    }\n",
       "</style>\n",
       "<table border=\"1\" class=\"dataframe\">\n",
       "  <thead>\n",
       "    <tr style=\"text-align: right;\">\n",
       "      <th></th>\n",
       "      <th>Outlook</th>\n",
       "      <th>Temperature</th>\n",
       "      <th>Humidity</th>\n",
       "      <th>Windy</th>\n",
       "      <th>Play</th>\n",
       "    </tr>\n",
       "  </thead>\n",
       "  <tbody>\n",
       "    <tr>\n",
       "      <th>0</th>\n",
       "      <td>2</td>\n",
       "      <td>1</td>\n",
       "      <td>0</td>\n",
       "      <td>0</td>\n",
       "      <td>0</td>\n",
       "    </tr>\n",
       "    <tr>\n",
       "      <th>1</th>\n",
       "      <td>2</td>\n",
       "      <td>1</td>\n",
       "      <td>0</td>\n",
       "      <td>1</td>\n",
       "      <td>0</td>\n",
       "    </tr>\n",
       "    <tr>\n",
       "      <th>2</th>\n",
       "      <td>0</td>\n",
       "      <td>1</td>\n",
       "      <td>0</td>\n",
       "      <td>0</td>\n",
       "      <td>1</td>\n",
       "    </tr>\n",
       "    <tr>\n",
       "      <th>3</th>\n",
       "      <td>1</td>\n",
       "      <td>2</td>\n",
       "      <td>0</td>\n",
       "      <td>0</td>\n",
       "      <td>1</td>\n",
       "    </tr>\n",
       "    <tr>\n",
       "      <th>4</th>\n",
       "      <td>1</td>\n",
       "      <td>0</td>\n",
       "      <td>1</td>\n",
       "      <td>0</td>\n",
       "      <td>1</td>\n",
       "    </tr>\n",
       "  </tbody>\n",
       "</table>\n",
       "</div>"
      ],
      "text/plain": [
       "   Outlook  Temperature  Humidity  Windy  Play\n",
       "0        2            1         0      0     0\n",
       "1        2            1         0      1     0\n",
       "2        0            1         0      0     1\n",
       "3        1            2         0      0     1\n",
       "4        1            0         1      0     1"
      ]
     },
     "execution_count": 10,
     "metadata": {},
     "output_type": "execute_result"
    }
   ],
   "source": [
    "golf.head()"
   ]
  },
  {
   "cell_type": "code",
   "execution_count": 11,
   "id": "6d03e6ed",
   "metadata": {},
   "outputs": [],
   "source": [
    "from sklearn.naive_bayes import CategoricalNB"
   ]
  },
  {
   "cell_type": "code",
   "execution_count": 12,
   "id": "f7238f6e",
   "metadata": {},
   "outputs": [],
   "source": [
    "model = CategoricalNB()"
   ]
  },
  {
   "cell_type": "code",
   "execution_count": 13,
   "id": "9405b65e",
   "metadata": {},
   "outputs": [
    {
     "data": {
      "text/plain": [
       "CategoricalNB()"
      ]
     },
     "execution_count": 13,
     "metadata": {},
     "output_type": "execute_result"
    }
   ],
   "source": [
    "model.fit(golf.iloc[:, :-1], golf.iloc[:, -1])"
   ]
  },
  {
   "cell_type": "code",
   "execution_count": 16,
   "id": "03c19403",
   "metadata": {},
   "outputs": [],
   "source": [
    "X_test = [\"sunny\", \"hot\", \"normal\", False]"
   ]
  },
  {
   "cell_type": "code",
   "execution_count": 17,
   "id": "b3f0790b",
   "metadata": {},
   "outputs": [
    {
     "data": {
      "text/plain": [
       "array([2])"
      ]
     },
     "execution_count": 17,
     "metadata": {},
     "output_type": "execute_result"
    }
   ],
   "source": [
    "le1.transform(['sunny'])"
   ]
  },
  {
   "cell_type": "code",
   "execution_count": 18,
   "id": "7a0eb00e",
   "metadata": {},
   "outputs": [
    {
     "data": {
      "text/plain": [
       "array([1])"
      ]
     },
     "execution_count": 18,
     "metadata": {},
     "output_type": "execute_result"
    }
   ],
   "source": [
    "le2.transform(['hot'])"
   ]
  },
  {
   "cell_type": "code",
   "execution_count": 19,
   "id": "04db4cda",
   "metadata": {},
   "outputs": [
    {
     "data": {
      "text/plain": [
       "array([1])"
      ]
     },
     "execution_count": 19,
     "metadata": {},
     "output_type": "execute_result"
    }
   ],
   "source": [
    "le3.transform(['normal'])"
   ]
  },
  {
   "cell_type": "code",
   "execution_count": 24,
   "id": "7403228d",
   "metadata": {},
   "outputs": [
    {
     "data": {
      "text/plain": [
       "array([0])"
      ]
     },
     "execution_count": 24,
     "metadata": {},
     "output_type": "execute_result"
    }
   ],
   "source": [
    "le4.transform([False])"
   ]
  },
  {
   "cell_type": "code",
   "execution_count": 28,
   "id": "21f36f09",
   "metadata": {},
   "outputs": [],
   "source": [
    "X_test = np.array([[2,1,1,0]])"
   ]
  },
  {
   "cell_type": "code",
   "execution_count": 29,
   "id": "ca2fbd39",
   "metadata": {},
   "outputs": [
    {
     "data": {
      "text/plain": [
       "array([1])"
      ]
     },
     "execution_count": 29,
     "metadata": {},
     "output_type": "execute_result"
    }
   ],
   "source": [
    "model.predict(X_test)"
   ]
  },
  {
   "cell_type": "code",
   "execution_count": 30,
   "id": "99bf0576",
   "metadata": {},
   "outputs": [
    {
     "data": {
      "text/plain": [
       "array([[0.33508723, 0.66491277]])"
      ]
     },
     "execution_count": 30,
     "metadata": {},
     "output_type": "execute_result"
    }
   ],
   "source": [
    "model.predict_proba(X_test)"
   ]
  },
  {
   "cell_type": "code",
   "execution_count": null,
   "id": "a2864f50",
   "metadata": {},
   "outputs": [],
   "source": []
  },
  {
   "cell_type": "code",
   "execution_count": null,
   "id": "64ada2e4",
   "metadata": {},
   "outputs": [],
   "source": []
  },
  {
   "cell_type": "markdown",
   "id": "b742be27",
   "metadata": {},
   "source": [
    "# Naive Bayes Classifier for Text Data\n",
    "\n",
    "<img src=\"https://media.giphy.com/media/dQpUkK59l5Imxsh8jN/giphy.gif\" width=300 > "
   ]
  },
  {
   "cell_type": "markdown",
   "id": "0df6d2a8",
   "metadata": {},
   "source": [
    "#### Multinomial Naive Bayes\n",
    "- Important is to compute the likelihood \n",
    "\n",
    "$$P(x_i|Y_i = c) = \\frac {count(x_i, Y_i = c)} {\\sum_{w \\in V}{count(w, Y_i=c)}} $$\n"
   ]
  },
  {
   "cell_type": "code",
   "execution_count": null,
   "id": "4d2c9dd0",
   "metadata": {},
   "outputs": [],
   "source": []
  },
  {
   "cell_type": "markdown",
   "id": "4bdc9be2",
   "metadata": {},
   "source": [
    "# Laplace Smoothing"
   ]
  },
  {
   "cell_type": "markdown",
   "id": "187a8d0f",
   "metadata": {},
   "source": [
    "<img src=\"https://media.giphy.com/media/SqmkZ5IdwzTP2/giphy.gif\" width=300 align=left>"
   ]
  },
  {
   "cell_type": "code",
   "execution_count": null,
   "id": "c08e3ef6",
   "metadata": {},
   "outputs": [],
   "source": []
  },
  {
   "cell_type": "markdown",
   "id": "ce330c2d",
   "metadata": {},
   "source": [
    "$$P(x_i|Y_i = c) = \\frac {count(x_i, Y_i = c) + \\alpha} {\\sum_{w \\in V}{count(w, Y_i=c)} + \\alpha |V|} $$"
   ]
  },
  {
   "cell_type": "code",
   "execution_count": null,
   "id": "2065f18a",
   "metadata": {},
   "outputs": [],
   "source": []
  },
  {
   "cell_type": "markdown",
   "id": "ad0fe83b",
   "metadata": {},
   "source": [
    "# A Practical Example of Multinomial Naive Bayes"
   ]
  },
  {
   "cell_type": "markdown",
   "id": "8c0ad33f",
   "metadata": {},
   "source": [
    "<table align=left>\n",
    "    <tr style=\"font-weight:bold;\">\n",
    "        <td></td>\n",
    "        <td>docID</td>\n",
    "        <td>words in document</td>\n",
    "        <td>c = China?</td>\n",
    "    </tr> \n",
    "    <tr>\n",
    "        <td  rowspan=4> training set </td>\n",
    "        <td> 1 </td>\n",
    "        <td> Chinese Beijing Chinese </td>\n",
    "        <td> yes </td>\n",
    "    </tr>\n",
    "    <tr>\n",
    "        <td> 2 </td>\n",
    "        <td> Chinese Chinese Shanghai </td>\n",
    "        <td> yes </td>\n",
    "    </tr>\n",
    "    <tr>\n",
    "        <td> 3 </td>\n",
    "        <td> Chinese Macao </td>\n",
    "        <td> yes </td>\n",
    "    </tr>\n",
    "    <tr>\n",
    "        <td> 4 </td>\n",
    "        <td> Tokyo Japan Chinese </td>\n",
    "        <td> no </td>\n",
    "    </tr>\n",
    "    <tr>\n",
    "        <td> test set </td>\n",
    "        <td> 5 </td>\n",
    "        <td> Chinese Chinese Chinese Tokyo Japan </td>\n",
    "        <td> ? </td>\n",
    "    </tr>\n",
    "</table>"
   ]
  },
  {
   "cell_type": "code",
   "execution_count": null,
   "id": "71f0b1eb",
   "metadata": {},
   "outputs": [],
   "source": []
  },
  {
   "cell_type": "code",
   "execution_count": null,
   "id": "7c419b85",
   "metadata": {},
   "outputs": [],
   "source": []
  },
  {
   "cell_type": "code",
   "execution_count": null,
   "id": "bea4a6d9",
   "metadata": {},
   "outputs": [],
   "source": []
  },
  {
   "cell_type": "code",
   "execution_count": null,
   "id": "2226f872",
   "metadata": {},
   "outputs": [],
   "source": []
  },
  {
   "cell_type": "markdown",
   "id": "5a68e1bd",
   "metadata": {},
   "source": [
    "# Bernoulli Naive Bayes\n",
    "\n",
    "<img src=\"https://media.giphy.com/media/xTiN0h0Kh5gH7yQYUw/giphy.gif\" width=300 align=right>\n",
    "<br><br>\n",
    "\n",
    "1. Bernoulli doesn't talk about the frequency of a feature/word.\n",
    "1. It is only concerned about whether a word is present or not (1 or 0)."
   ]
  },
  {
   "cell_type": "markdown",
   "id": "f75c721d",
   "metadata": {},
   "source": [
    "**Likelihood :**"
   ]
  },
  {
   "cell_type": "markdown",
   "id": "31cc7a35",
   "metadata": {},
   "source": [
    "$$P(x_i|Y_i = c) = \\frac {count(d_i \\; contains \\; x_i, Y_i = c) + \\alpha} {{count(Y_i=c)} + \\alpha \\, |V|} $$"
   ]
  },
  {
   "cell_type": "markdown",
   "id": "692c078a",
   "metadata": {},
   "source": [
    "**Prediction:**"
   ]
  },
  {
   "cell_type": "markdown",
   "id": "4afee9a0",
   "metadata": {},
   "source": [
    "$$P(Y=1|X) = \\prod_{i=1}^{|V|} { P(x_i|Y=1)^b . \\big(1 - P(x_i|Y=spam)\\big)^{1-b}} * P(Y=1)$$"
   ]
  },
  {
   "cell_type": "code",
   "execution_count": null,
   "id": "80f60524",
   "metadata": {},
   "outputs": [],
   "source": []
  },
  {
   "cell_type": "code",
   "execution_count": null,
   "id": "43afa98d",
   "metadata": {},
   "outputs": [],
   "source": []
  },
  {
   "cell_type": "markdown",
   "id": "45b21dcc",
   "metadata": {},
   "source": [
    "## Example of Bernoulli Naive Bayes"
   ]
  },
  {
   "cell_type": "markdown",
   "id": "afb80f67",
   "metadata": {},
   "source": [
    "<table align=left>\n",
    "    <tr style=\"font-weight:bold;\">\n",
    "        <td></td>\n",
    "        <td>docID</td>\n",
    "        <td>words in document</td>\n",
    "        <td>c = China?</td>\n",
    "    </tr> \n",
    "    <tr>\n",
    "        <td  rowspan=4> training set </td>\n",
    "        <td> 1 </td>\n",
    "        <td> Chinese Beijing Chinese </td>\n",
    "        <td> yes </td>\n",
    "    </tr>\n",
    "    <tr>\n",
    "        <td> 2 </td>\n",
    "        <td> Chinese Chinese Shanghai </td>\n",
    "        <td> yes </td>\n",
    "    </tr>\n",
    "    <tr>\n",
    "        <td> 3 </td>\n",
    "        <td> Chinese Macao </td>\n",
    "        <td> yes </td>\n",
    "    </tr>\n",
    "    <tr>\n",
    "        <td> 4 </td>\n",
    "        <td> Tokyo Japan Chinese </td>\n",
    "        <td> no </td>\n",
    "    </tr>\n",
    "    <tr>\n",
    "        <td> test set </td>\n",
    "        <td> 5 </td>\n",
    "        <td> Chinese Chinese Chinese Tokyo Japan </td>\n",
    "        <td> ? </td>\n",
    "    </tr>\n",
    "</table>"
   ]
  },
  {
   "cell_type": "code",
   "execution_count": null,
   "id": "fb283260",
   "metadata": {},
   "outputs": [],
   "source": []
  },
  {
   "cell_type": "code",
   "execution_count": null,
   "id": "5bd8ea93",
   "metadata": {},
   "outputs": [],
   "source": []
  },
  {
   "cell_type": "code",
   "execution_count": null,
   "id": "13d133ef",
   "metadata": {},
   "outputs": [],
   "source": []
  },
  {
   "cell_type": "markdown",
   "id": "5c334eda",
   "metadata": {},
   "source": [
    "# Bias Variance Tradeoff   <img src=\"imgs/alpha.png\" width=100 >"
   ]
  },
  {
   "cell_type": "markdown",
   "id": "4a97168f",
   "metadata": {},
   "source": []
  },
  {
   "cell_type": "code",
   "execution_count": null,
   "id": "519a8808",
   "metadata": {},
   "outputs": [],
   "source": []
  },
  {
   "cell_type": "markdown",
   "id": "25edd7cf",
   "metadata": {},
   "source": [
    "# Gaussian Naive Bayes\n",
    "<img src=\"imgs/gaussian.png\" width=500>"
   ]
  },
  {
   "cell_type": "code",
   "execution_count": null,
   "id": "1414e781",
   "metadata": {},
   "outputs": [],
   "source": []
  },
  {
   "cell_type": "code",
   "execution_count": null,
   "id": "32ab6ad1",
   "metadata": {},
   "outputs": [],
   "source": []
  },
  {
   "cell_type": "markdown",
   "id": "26944990",
   "metadata": {},
   "source": [
    "# Scikit Learn code for Naive Bayes"
   ]
  },
  {
   "cell_type": "code",
   "execution_count": null,
   "id": "99b564b7",
   "metadata": {},
   "outputs": [],
   "source": []
  },
  {
   "cell_type": "code",
   "execution_count": null,
   "id": "9c9a8f98",
   "metadata": {},
   "outputs": [],
   "source": []
  },
  {
   "cell_type": "code",
   "execution_count": null,
   "id": "50dc6ea5",
   "metadata": {},
   "outputs": [],
   "source": []
  },
  {
   "cell_type": "code",
   "execution_count": null,
   "id": "29ca6faa",
   "metadata": {},
   "outputs": [],
   "source": []
  }
 ],
 "metadata": {
  "kernelspec": {
   "display_name": "Python 3",
   "language": "python",
   "name": "python3"
  },
  "language_info": {
   "codemirror_mode": {
    "name": "ipython",
    "version": 3
   },
   "file_extension": ".py",
   "mimetype": "text/x-python",
   "name": "python",
   "nbconvert_exporter": "python",
   "pygments_lexer": "ipython3",
   "version": "3.8.8"
  }
 },
 "nbformat": 4,
 "nbformat_minor": 5
}
