{
 "cells": [
  {
   "cell_type": "markdown",
   "id": "b742be27",
   "metadata": {},
   "source": [
    "# Naive Bayes Classifier for Text Data\n",
    "\n",
    "<img src=\"https://media.giphy.com/media/dQpUkK59l5Imxsh8jN/giphy.gif\" width=300 > "
   ]
  },
  {
   "cell_type": "markdown",
   "id": "0df6d2a8",
   "metadata": {},
   "source": [
    "#### Multinomial Naive Bayes\n",
    "- Important is to compute the likelihood \n",
    "\n",
    "$$P(x_i|Y_i = c) = \\frac {count(x_i, Y_i = c)} {\\sum_{w \\in V}{count(w, Y_i=c)}} $$\n"
   ]
  },
  {
   "cell_type": "code",
   "execution_count": null,
   "id": "4d2c9dd0",
   "metadata": {},
   "outputs": [],
   "source": []
  },
  {
   "cell_type": "code",
   "execution_count": null,
   "id": "1581d9c9",
   "metadata": {},
   "outputs": [],
   "source": []
  },
  {
   "cell_type": "code",
   "execution_count": null,
   "id": "c53619c3",
   "metadata": {},
   "outputs": [],
   "source": []
  },
  {
   "cell_type": "code",
   "execution_count": null,
   "id": "353794db",
   "metadata": {},
   "outputs": [],
   "source": []
  },
  {
   "cell_type": "code",
   "execution_count": null,
   "id": "b402a4a4",
   "metadata": {},
   "outputs": [],
   "source": []
  },
  {
   "cell_type": "code",
   "execution_count": null,
   "id": "842bbb59",
   "metadata": {},
   "outputs": [],
   "source": []
  },
  {
   "cell_type": "code",
   "execution_count": null,
   "id": "9f5d5034",
   "metadata": {},
   "outputs": [],
   "source": []
  },
  {
   "cell_type": "code",
   "execution_count": null,
   "id": "0ca73cf9",
   "metadata": {},
   "outputs": [],
   "source": []
  },
  {
   "cell_type": "code",
   "execution_count": null,
   "id": "d6f7a277",
   "metadata": {},
   "outputs": [],
   "source": []
  },
  {
   "cell_type": "code",
   "execution_count": null,
   "id": "884eae8a",
   "metadata": {},
   "outputs": [],
   "source": []
  },
  {
   "cell_type": "code",
   "execution_count": null,
   "id": "67ebc1c9",
   "metadata": {},
   "outputs": [],
   "source": []
  },
  {
   "cell_type": "code",
   "execution_count": null,
   "id": "095f25cf",
   "metadata": {},
   "outputs": [],
   "source": []
  },
  {
   "cell_type": "code",
   "execution_count": null,
   "id": "0ad388b4",
   "metadata": {},
   "outputs": [],
   "source": []
  },
  {
   "cell_type": "code",
   "execution_count": null,
   "id": "ac50296e",
   "metadata": {},
   "outputs": [],
   "source": []
  },
  {
   "cell_type": "code",
   "execution_count": null,
   "id": "2da1dddf",
   "metadata": {},
   "outputs": [],
   "source": []
  },
  {
   "cell_type": "code",
   "execution_count": null,
   "id": "b6908eea",
   "metadata": {},
   "outputs": [],
   "source": []
  },
  {
   "cell_type": "code",
   "execution_count": null,
   "id": "58f35d1d",
   "metadata": {},
   "outputs": [],
   "source": []
  },
  {
   "cell_type": "code",
   "execution_count": null,
   "id": "e09a15d9",
   "metadata": {},
   "outputs": [],
   "source": []
  },
  {
   "cell_type": "markdown",
   "id": "4bdc9be2",
   "metadata": {},
   "source": [
    "# Laplace Smoothing"
   ]
  },
  {
   "cell_type": "markdown",
   "id": "187a8d0f",
   "metadata": {},
   "source": [
    "<img src=\"https://media.giphy.com/media/SqmkZ5IdwzTP2/giphy.gif\" width=300 align=left>"
   ]
  },
  {
   "cell_type": "code",
   "execution_count": null,
   "id": "c08e3ef6",
   "metadata": {},
   "outputs": [],
   "source": []
  },
  {
   "cell_type": "markdown",
   "id": "ce330c2d",
   "metadata": {},
   "source": [
    "$$P(x_i|Y_i = c) = \\frac {count(x_i, Y_i = c) + \\alpha} {\\sum_{w \\in V}{count(w, Y_i=c)} + \\alpha |V|} $$"
   ]
  },
  {
   "cell_type": "code",
   "execution_count": null,
   "id": "2065f18a",
   "metadata": {},
   "outputs": [],
   "source": []
  },
  {
   "cell_type": "markdown",
   "id": "ad0fe83b",
   "metadata": {},
   "source": [
    "# A Practical Example of Multinomial Naive Bayes"
   ]
  },
  {
   "cell_type": "markdown",
   "id": "8c0ad33f",
   "metadata": {},
   "source": [
    "<table align=left>\n",
    "    <tr style=\"font-weight:bold;\">\n",
    "        <td></td>\n",
    "        <td>docID</td>\n",
    "        <td>words in document</td>\n",
    "        <td>c = China?</td>\n",
    "    </tr> \n",
    "    <tr>\n",
    "        <td  rowspan=4> training set </td>\n",
    "        <td> 1 </td>\n",
    "        <td> Chinese Beijing Chinese </td>\n",
    "        <td> yes </td>\n",
    "    </tr>\n",
    "    <tr>\n",
    "        <td> 2 </td>\n",
    "        <td> Chinese Chinese Shanghai </td>\n",
    "        <td> yes </td>\n",
    "    </tr>\n",
    "    <tr>\n",
    "        <td> 3 </td>\n",
    "        <td> Chinese Macao </td>\n",
    "        <td> yes </td>\n",
    "    </tr>\n",
    "    <tr>\n",
    "        <td> 4 </td>\n",
    "        <td> Tokyo Japan Chinese </td>\n",
    "        <td> no </td>\n",
    "    </tr>\n",
    "    <tr>\n",
    "        <td> test set </td>\n",
    "        <td> 5 </td>\n",
    "        <td> Chinese Chinese Chinese Tokyo Japan </td>\n",
    "        <td> ? </td>\n",
    "    </tr>\n",
    "</table>"
   ]
  },
  {
   "cell_type": "code",
   "execution_count": null,
   "id": "71f0b1eb",
   "metadata": {},
   "outputs": [],
   "source": []
  },
  {
   "cell_type": "code",
   "execution_count": null,
   "id": "7c419b85",
   "metadata": {},
   "outputs": [],
   "source": []
  },
  {
   "cell_type": "code",
   "execution_count": null,
   "id": "bea4a6d9",
   "metadata": {},
   "outputs": [],
   "source": []
  },
  {
   "cell_type": "code",
   "execution_count": null,
   "id": "2226f872",
   "metadata": {},
   "outputs": [],
   "source": []
  },
  {
   "cell_type": "markdown",
   "id": "5a68e1bd",
   "metadata": {},
   "source": [
    "# Bernoulli Naive Bayes\n",
    "\n",
    "<img src=\"https://media.giphy.com/media/xTiN0h0Kh5gH7yQYUw/giphy.gif\" width=300 align=right>\n",
    "<br><br>\n",
    "\n",
    "1. Bernoulli doesn't talk about the frequency of a feature/word.\n",
    "1. It is only concerned about whether a word is present or not (1 or 0)."
   ]
  },
  {
   "cell_type": "markdown",
   "id": "f75c721d",
   "metadata": {},
   "source": [
    "**Likelihood :**"
   ]
  },
  {
   "cell_type": "markdown",
   "id": "31cc7a35",
   "metadata": {},
   "source": [
    "$$P(x_i|Y_i = c) = \\frac {count(d_i \\; contains \\; x_i, Y_i = c) + \\alpha} {{count(Y_i=c)} + \\alpha \\, |V|} $$"
   ]
  },
  {
   "cell_type": "markdown",
   "id": "692c078a",
   "metadata": {},
   "source": [
    "**Prediction:**"
   ]
  },
  {
   "cell_type": "markdown",
   "id": "4afee9a0",
   "metadata": {},
   "source": [
    "$$P(Y=1|X) = \\prod_{i=1}^{|V|} { P(x_i|Y=1)^b . \\big(1 - P(x_i|Y=spam)\\big)^{1-b}} * P(Y=1)$$"
   ]
  },
  {
   "cell_type": "code",
   "execution_count": null,
   "id": "80f60524",
   "metadata": {},
   "outputs": [],
   "source": []
  },
  {
   "cell_type": "code",
   "execution_count": null,
   "id": "43afa98d",
   "metadata": {},
   "outputs": [],
   "source": []
  },
  {
   "cell_type": "markdown",
   "id": "45b21dcc",
   "metadata": {},
   "source": [
    "## Example of Bernoulli Naive Bayes"
   ]
  },
  {
   "cell_type": "markdown",
   "id": "afb80f67",
   "metadata": {},
   "source": [
    "<table align=left>\n",
    "    <tr style=\"font-weight:bold;\">\n",
    "        <td></td>\n",
    "        <td>docID</td>\n",
    "        <td>words in document</td>\n",
    "        <td>c = China?</td>\n",
    "    </tr> \n",
    "    <tr>\n",
    "        <td  rowspan=4> training set </td>\n",
    "        <td> 1 </td>\n",
    "        <td> Chinese Beijing Chinese </td>\n",
    "        <td> yes </td>\n",
    "    </tr>\n",
    "    <tr>\n",
    "        <td> 2 </td>\n",
    "        <td> Chinese Chinese Shanghai </td>\n",
    "        <td> yes </td>\n",
    "    </tr>\n",
    "    <tr>\n",
    "        <td> 3 </td>\n",
    "        <td> Chinese Macao </td>\n",
    "        <td> yes </td>\n",
    "    </tr>\n",
    "    <tr>\n",
    "        <td> 4 </td>\n",
    "        <td> Tokyo Japan Chinese </td>\n",
    "        <td> no </td>\n",
    "    </tr>\n",
    "    <tr>\n",
    "        <td> test set </td>\n",
    "        <td> 5 </td>\n",
    "        <td> Chinese Chinese Chinese Tokyo Japan </td>\n",
    "        <td> ? </td>\n",
    "    </tr>\n",
    "</table>"
   ]
  },
  {
   "cell_type": "code",
   "execution_count": null,
   "id": "fb283260",
   "metadata": {},
   "outputs": [],
   "source": []
  },
  {
   "cell_type": "code",
   "execution_count": null,
   "id": "5bd8ea93",
   "metadata": {},
   "outputs": [],
   "source": []
  },
  {
   "cell_type": "code",
   "execution_count": null,
   "id": "13d133ef",
   "metadata": {},
   "outputs": [],
   "source": []
  },
  {
   "cell_type": "markdown",
   "id": "5c334eda",
   "metadata": {},
   "source": [
    "# Bias Variance Tradeoff   <img src=\"imgs/alpha.png\" width=100 >"
   ]
  },
  {
   "cell_type": "markdown",
   "id": "4a97168f",
   "metadata": {},
   "source": []
  },
  {
   "cell_type": "code",
   "execution_count": null,
   "id": "519a8808",
   "metadata": {},
   "outputs": [],
   "source": []
  },
  {
   "cell_type": "markdown",
   "id": "25edd7cf",
   "metadata": {},
   "source": [
    "# Gaussian Naive Bayes\n",
    "<img src=\"imgs/gaussian.png\" width=500>"
   ]
  },
  {
   "cell_type": "code",
   "execution_count": null,
   "id": "1414e781",
   "metadata": {},
   "outputs": [],
   "source": []
  },
  {
   "cell_type": "code",
   "execution_count": null,
   "id": "32ab6ad1",
   "metadata": {},
   "outputs": [],
   "source": []
  },
  {
   "cell_type": "markdown",
   "id": "26944990",
   "metadata": {},
   "source": [
    "# Scikit Learn code for Naive Bayes"
   ]
  },
  {
   "cell_type": "code",
   "execution_count": null,
   "id": "99b564b7",
   "metadata": {},
   "outputs": [],
   "source": []
  },
  {
   "cell_type": "code",
   "execution_count": null,
   "id": "9c9a8f98",
   "metadata": {},
   "outputs": [],
   "source": []
  },
  {
   "cell_type": "code",
   "execution_count": null,
   "id": "50dc6ea5",
   "metadata": {},
   "outputs": [],
   "source": []
  },
  {
   "cell_type": "code",
   "execution_count": null,
   "id": "29ca6faa",
   "metadata": {},
   "outputs": [],
   "source": []
  }
 ],
 "metadata": {
  "kernelspec": {
   "display_name": "Python 3",
   "language": "python",
   "name": "python3"
  },
  "language_info": {
   "codemirror_mode": {
    "name": "ipython",
    "version": 3
   },
   "file_extension": ".py",
   "mimetype": "text/x-python",
   "name": "python",
   "nbconvert_exporter": "python",
   "pygments_lexer": "ipython3",
   "version": "3.8.8"
  }
 },
 "nbformat": 4,
 "nbformat_minor": 5
}
